{
 "cells": [
  {
   "cell_type": "code",
   "execution_count": 1,
   "id": "501478c4",
   "metadata": {},
   "outputs": [],
   "source": [
    "from folderol import *"
   ]
  },
  {
   "cell_type": "code",
   "execution_count": 2,
   "id": "876f7f54",
   "metadata": {},
   "outputs": [
    {
     "name": "stdout",
     "output_type": "stream",
     "text": [
      "h(?a, foo(?a, x), ?d)\n"
     ]
    }
   ],
   "source": [
    "t = parse_term(\"h(?a, foo(?a, x), ?d)\")\n",
    "print(t)"
   ]
  },
  {
   "cell_type": "code",
   "execution_count": 3,
   "id": "b48dbabe",
   "metadata": {},
   "outputs": [
    {
     "name": "stdout",
     "output_type": "stream",
     "text": [
      "h(?a, f(?a), ?d)\n",
      "h(g(0, ?d), ?b, ?c)\n"
     ]
    }
   ],
   "source": [
    "t = parse_term(\"h(?a, f(?a), ?d)\")\n",
    "u = parse_term(\"h(g(0, ?d), ?b, ?c)\")\n",
    "print(t)\n",
    "print(u)"
   ]
  },
  {
   "cell_type": "code",
   "execution_count": 4,
   "id": "0afee47b",
   "metadata": {},
   "outputs": [
    {
     "name": "stdout",
     "output_type": "stream",
     "text": [
      "?a: g(0, ?d)\n",
      "?b: f(?a)\n",
      "?d: ?c\n"
     ]
    }
   ],
   "source": [
    "env = unify_terms([t], [u], dict())\n",
    "for v in env: print(f'?{v}: {env[v]}')"
   ]
  },
  {
   "cell_type": "code",
   "execution_count": 5,
   "id": "b62fddcb",
   "metadata": {},
   "outputs": [
    {
     "name": "stdout",
     "output_type": "stream",
     "text": [
      "Quant(q=<Q.ALL: '∀'>, bname='x', body=Pred(name='P', args=[Bound(i=0)])) : ∀x.P(x)\n",
      "Quant(q=<Q.ALL: '∀'>, bname='y', body=Pred(name='P', args=[Bound(i=0)])) : ∀y.P(y)\n"
     ]
    },
    {
     "data": {
      "text/plain": [
       "True"
      ]
     },
     "execution_count": 5,
     "metadata": {},
     "output_type": "execute_result"
    }
   ],
   "source": [
    "fm = parse_form(\"forall x . P(x)\")\n",
    "fm1 = parse_form(\"forall y . P(y)\")\n",
    "print(repr(fm), ':', fm)\n",
    "print(repr(fm1), ':', fm1)\n",
    "fm == fm1"
   ]
  },
  {
   "cell_type": "code",
   "execution_count": 6,
   "id": "620658b5",
   "metadata": {},
   "outputs": [
    {
     "name": "stdout",
     "output_type": "stream",
     "text": [
      "P, Q ⊢ (P ∧ Q)\n"
     ]
    }
   ],
   "source": [
    "goal = parse_goal(\"P, Q |- P and Q\")\n",
    "print(goal)"
   ]
  },
  {
   "cell_type": "code",
   "execution_count": 7,
   "id": "77bf2333",
   "metadata": {},
   "outputs": [
    {
     "name": "stdout",
     "output_type": "stream",
     "text": [
      "1 goal:\n",
      "  (Q ∧ P) ⊢ (P ∧ Q)\n",
      "\n",
      "\n",
      "2 goals:\n",
      "  (Q ∧ P) ⊢ P\n",
      "  (Q ∧ P) ⊢ Q\n",
      "\n",
      "\n",
      "1 goal:\n",
      "  (Q ∧ P) ⊢ Q\n",
      "\n",
      "\n",
      "qed\n",
      "\n",
      "\n"
     ]
    }
   ],
   "source": [
    "pf = Proof(parse_goal('Q and P |- P and Q'))\n",
    "print(pf)\n",
    "\n",
    "pf.rule('andR'); print(pf)\n",
    "pf.rule('andL'); print(pf)\n",
    "pf.rule('andL'); print(pf)"
   ]
  },
  {
   "cell_type": "code",
   "execution_count": 8,
   "id": "e00e2e2c",
   "metadata": {},
   "outputs": [
    {
     "name": "stdout",
     "output_type": "stream",
     "text": [
      "1 goal:\n",
      "  (Q ∧ P) ⊢ (P ∧ Q)\n",
      "\n",
      "\n",
      "1 goal:\n",
      "  Q, P ⊢ (P ∧ Q)\n",
      "\n",
      "\n",
      "qed\n",
      "\n",
      "\n"
     ]
    }
   ],
   "source": [
    "pf = Proof(parse_goal('Q and P |- P and Q'))\n",
    "print(pf)\n",
    "\n",
    "pf.rule('andL'); print(pf)\n",
    "pf.rule('andR'); print(pf)"
   ]
  },
  {
   "cell_type": "code",
   "execution_count": 9,
   "id": "41b998d1",
   "metadata": {},
   "outputs": [
    {
     "name": "stdout",
     "output_type": "stream",
     "text": [
      "1 goal:\n",
      "  ∀x.(Q(x) ∧ P(x)) ⊢ ∀x.(P(x) ∧ Q(x))\n",
      "\n",
      "\n",
      "1 goal:\n",
      "  ∀x.(Q(x) ∧ P(x)) ⊢ (P(x0) ∧ Q(x0))\n",
      "\n",
      "\n",
      "1 goal:\n",
      "  (Q(?x1) ∧ P(?x1)), ∀x.(Q(x) ∧ P(x)) ⊢ (P(x0) ∧ Q(x0))\n",
      "\n",
      "\n",
      "1 goal:\n",
      "  ∀x.(Q(x) ∧ P(x)), Q(?x1), P(?x1) ⊢ (P(x0) ∧ Q(x0))\n",
      "\n",
      "\n",
      "qed\n",
      "\n",
      "\n"
     ]
    }
   ],
   "source": [
    "pf = Proof(parse_goal('forall x . Q(x) and P(x) |- forall x . P(x) and Q(x)'))\n",
    "print(pf)\n",
    "\n",
    "pf.rule('allR'); print(pf)\n",
    "pf.rule('allL'); print(pf)\n",
    "pf.rule('andL'); print(pf)\n",
    "pf.rule('andR'); print(pf)"
   ]
  },
  {
   "cell_type": "code",
   "execution_count": 10,
   "id": "7817ca6f",
   "metadata": {},
   "outputs": [
    {
     "name": "stdout",
     "output_type": "stream",
     "text": [
      "1 goal:\n",
      "  P(0) ⊢ ∃x.(P(x) ∧ P(x))\n",
      "\n",
      "\n",
      "1 goal:\n",
      "  P(0) ⊢ (P(?x0) ∧ P(?x0)), ∃x.(P(x) ∧ P(x))\n",
      "\n",
      "\n",
      "qed\n",
      "\n",
      "\n"
     ]
    }
   ],
   "source": [
    "pf = Proof(parse_goal('P(0) |- exists x . P(x) and P(x)'))\n",
    "print(pf)\n",
    "\n",
    "pf.rule('existsR'); print(pf)\n",
    "pf.rule('andR'); print(pf)"
   ]
  },
  {
   "cell_type": "code",
   "execution_count": null,
   "id": "3b1f7c3d",
   "metadata": {},
   "outputs": [],
   "source": []
  }
 ],
 "metadata": {
  "kernelspec": {
   "display_name": "Python 3 (ipykernel)",
   "language": "python",
   "name": "python3"
  },
  "language_info": {
   "codemirror_mode": {
    "name": "ipython",
    "version": 3
   },
   "file_extension": ".py",
   "mimetype": "text/x-python",
   "name": "python",
   "nbconvert_exporter": "python",
   "pygments_lexer": "ipython3",
   "version": "3.10.12"
  }
 },
 "nbformat": 4,
 "nbformat_minor": 5
}
